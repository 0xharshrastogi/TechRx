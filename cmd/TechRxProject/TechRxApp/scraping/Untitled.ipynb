{
 "cells": [
  {
   "cell_type": "code",
   "execution_count": 26,
   "id": "a57d18a9",
   "metadata": {},
   "outputs": [],
   "source": [
    "from selenium import webdriver\n",
    "from webdriver_manager.chrome import ChromeDriverManager\n",
    "from selenium.webdriver.chrome.service import Service\n",
    "from selenium.webdriver.common.by import By\n",
    "from selenium.webdriver.common.keys import Keys\n",
    "import time\n",
    "import json\n",
    "from collections import OrderedDict"
   ]
  },
  {
   "cell_type": "code",
   "execution_count": 3,
   "id": "889e5131",
   "metadata": {},
   "outputs": [],
   "source": [
    "def launchBrowser(url):\n",
    "    print('in launchBrowser')\n",
    "    driver = webdriver.Chrome(service=Service(ChromeDriverManager().install()))\n",
    "    driver.get(url)\n",
    "    return driver"
   ]
  },
  {
   "cell_type": "code",
   "execution_count": 81,
   "id": "cd9e090a",
   "metadata": {},
   "outputs": [],
   "source": [
    "def get_medicines(driver, disease):\n",
    "    query_box = driver.find_element(By.NAME, 'q')\n",
    "    query_box.send_keys(disease+' medicine', Keys.ENTER)\n",
    "    time.sleep(1)\n",
    "    \n",
    "    \"\"\"shopping = driver.find_element(By.XPATH, '/html/body/div[6]/div/div[4]/div/div[1]/div/div[1]/div/div[3]/a')\n",
    "    print(shopping.text)\n",
    "    shopping.click()\n",
    "    \"\"\"\n",
    "    medicines =driver.find_elements(By.TAG_NAME, 'h3')\n",
    "    medicines_list = []\n",
    "    for i in medicines:\n",
    "        if i.text == 'Filter by format' or i.text == 'You might like':\n",
    "            pass\n",
    "        else:\n",
    "            medicines_list.append(i.text)\n",
    "    \n",
    "    query_box.clear()\n",
    "    return medicines_list\n",
    "    "
   ]
  },
  {
   "cell_type": "code",
   "execution_count": null,
   "id": "844dc4f5",
   "metadata": {},
   "outputs": [],
   "source": []
  },
  {
   "cell_type": "code",
   "execution_count": null,
   "id": "311bf5b8",
   "metadata": {},
   "outputs": [],
   "source": [
    "if __name__ == '__main__':\n",
    "    \n",
    "    with open('urls.json') as data_file:\n",
    "        urls = json.load(data_file, object_pairs_hook=OrderedDict)\n",
    "        \n",
    "    for i in urls.keys():\n",
    "        google = urls['google']\n",
    "        \n",
    "    driver = launchBrowser(google)"
   ]
  },
  {
   "cell_type": "code",
   "execution_count": null,
   "id": "61ed9a69",
   "metadata": {},
   "outputs": [],
   "source": [
    "if __name__ == '__main__':    \n",
    "    \n",
    "    file = open('diseases_trained.txt')\n",
    "    diseases = file.read()\n",
    "    file.close()"
   ]
  },
  {
   "cell_type": "code",
   "execution_count": 82,
   "id": "95949c6c",
   "metadata": {
    "scrolled": false
   },
   "outputs": [
    {
     "name": "stdout",
     "output_type": "stream",
     "text": [
      "Congential heart disease\n"
     ]
    },
    {
     "ename": "StaleElementReferenceException",
     "evalue": "Message: stale element reference: element is not attached to the page document\n  (Session info: chrome=111.0.5563.111)\nStacktrace:\nBacktrace:\n\t(No symbol) [0x00CBDCE3]\n\t(No symbol) [0x00C539D1]\n\t(No symbol) [0x00B64DA8]\n\t(No symbol) [0x00B676FB]\n\t(No symbol) [0x00B675D0]\n\t(No symbol) [0x00B67850]\n\t(No symbol) [0x00B916CD]\n\t(No symbol) [0x00B89D1F]\n\t(No symbol) [0x00BAAECC]\n\t(No symbol) [0x00B88726]\n\t(No symbol) [0x00BAB224]\n\t(No symbol) [0x00BBD57C]\n\t(No symbol) [0x00BAACC6]\n\t(No symbol) [0x00B86F68]\n\t(No symbol) [0x00B880CD]\n\tGetHandleVerifier [0x00F33832+2506274]\n\tGetHandleVerifier [0x00F69794+2727300]\n\tGetHandleVerifier [0x00F6E36C+2746716]\n\tGetHandleVerifier [0x00D66690+617600]\n\t(No symbol) [0x00C5C712]\n\t(No symbol) [0x00C61FF8]\n\t(No symbol) [0x00C620DB]\n\t(No symbol) [0x00C6C63B]\n\tBaseThreadInitThunk [0x75D20099+25]\n\tRtlGetAppContainerNamedObjectPath [0x77B47B6E+286]\n\tRtlGetAppContainerNamedObjectPath [0x77B47B3E+238]\n",
     "output_type": "error",
     "traceback": [
      "\u001b[1;31m---------------------------------------------------------------------------\u001b[0m",
      "\u001b[1;31mStaleElementReferenceException\u001b[0m            Traceback (most recent call last)",
      "Cell \u001b[1;32mIn[82], line 5\u001b[0m\n\u001b[0;32m      3\u001b[0m \u001b[38;5;28;01mfor\u001b[39;00m disease \u001b[38;5;129;01min\u001b[39;00m diseases\u001b[38;5;241m.\u001b[39msplit(\u001b[38;5;124m'\u001b[39m\u001b[38;5;130;01m\\n\u001b[39;00m\u001b[38;5;124m'\u001b[39m):\n\u001b[0;32m      4\u001b[0m     \u001b[38;5;28mprint\u001b[39m(disease)\n\u001b[1;32m----> 5\u001b[0m     medicines \u001b[38;5;241m=\u001b[39m \u001b[43mget_medicines\u001b[49m\u001b[43m(\u001b[49m\u001b[43mdriver\u001b[49m\u001b[43m,\u001b[49m\u001b[43m \u001b[49m\u001b[43mdisease\u001b[49m\u001b[43m)\u001b[49m\n\u001b[0;32m      6\u001b[0m     medicines_dict[disease] \u001b[38;5;241m=\u001b[39m []\n\u001b[0;32m      7\u001b[0m     medicines_dict[disease] \u001b[38;5;241m=\u001b[39m medicines\n",
      "Cell \u001b[1;32mIn[81], line 18\u001b[0m, in \u001b[0;36mget_medicines\u001b[1;34m(driver, disease)\u001b[0m\n\u001b[0;32m     15\u001b[0m     \u001b[38;5;28;01melse\u001b[39;00m:\n\u001b[0;32m     16\u001b[0m         medicines_list\u001b[38;5;241m.\u001b[39mappend(i\u001b[38;5;241m.\u001b[39mtext)\n\u001b[1;32m---> 18\u001b[0m \u001b[43mquery_box\u001b[49m\u001b[38;5;241;43m.\u001b[39;49m\u001b[43mclear\u001b[49m\u001b[43m(\u001b[49m\u001b[43m)\u001b[49m\n\u001b[0;32m     19\u001b[0m \u001b[38;5;28;01mreturn\u001b[39;00m medicines_list\n",
      "File \u001b[1;32mc:\\users\\2115978\\pycharmprojects\\pythonproject1\\techrx\\techrx-env\\lib\\site-packages\\selenium\\webdriver\\remote\\webelement.py:117\u001b[0m, in \u001b[0;36mWebElement.clear\u001b[1;34m(self)\u001b[0m\n\u001b[0;32m    115\u001b[0m \u001b[38;5;28;01mdef\u001b[39;00m \u001b[38;5;21mclear\u001b[39m(\u001b[38;5;28mself\u001b[39m) \u001b[38;5;241m-\u001b[39m\u001b[38;5;241m>\u001b[39m \u001b[38;5;28;01mNone\u001b[39;00m:\n\u001b[0;32m    116\u001b[0m \u001b[38;5;250m    \u001b[39m\u001b[38;5;124;03m\"\"\"Clears the text if it's a text entry element.\"\"\"\u001b[39;00m\n\u001b[1;32m--> 117\u001b[0m     \u001b[38;5;28;43mself\u001b[39;49m\u001b[38;5;241;43m.\u001b[39;49m\u001b[43m_execute\u001b[49m\u001b[43m(\u001b[49m\u001b[43mCommand\u001b[49m\u001b[38;5;241;43m.\u001b[39;49m\u001b[43mCLEAR_ELEMENT\u001b[49m\u001b[43m)\u001b[49m\n",
      "File \u001b[1;32mc:\\users\\2115978\\pycharmprojects\\pythonproject1\\techrx\\techrx-env\\lib\\site-packages\\selenium\\webdriver\\remote\\webelement.py:403\u001b[0m, in \u001b[0;36mWebElement._execute\u001b[1;34m(self, command, params)\u001b[0m\n\u001b[0;32m    401\u001b[0m     params \u001b[38;5;241m=\u001b[39m {}\n\u001b[0;32m    402\u001b[0m params[\u001b[38;5;124m\"\u001b[39m\u001b[38;5;124mid\u001b[39m\u001b[38;5;124m\"\u001b[39m] \u001b[38;5;241m=\u001b[39m \u001b[38;5;28mself\u001b[39m\u001b[38;5;241m.\u001b[39m_id\n\u001b[1;32m--> 403\u001b[0m \u001b[38;5;28;01mreturn\u001b[39;00m \u001b[38;5;28;43mself\u001b[39;49m\u001b[38;5;241;43m.\u001b[39;49m\u001b[43m_parent\u001b[49m\u001b[38;5;241;43m.\u001b[39;49m\u001b[43mexecute\u001b[49m\u001b[43m(\u001b[49m\u001b[43mcommand\u001b[49m\u001b[43m,\u001b[49m\u001b[43m \u001b[49m\u001b[43mparams\u001b[49m\u001b[43m)\u001b[49m\n",
      "File \u001b[1;32mc:\\users\\2115978\\pycharmprojects\\pythonproject1\\techrx\\techrx-env\\lib\\site-packages\\selenium\\webdriver\\remote\\webdriver.py:440\u001b[0m, in \u001b[0;36mWebDriver.execute\u001b[1;34m(self, driver_command, params)\u001b[0m\n\u001b[0;32m    438\u001b[0m response \u001b[38;5;241m=\u001b[39m \u001b[38;5;28mself\u001b[39m\u001b[38;5;241m.\u001b[39mcommand_executor\u001b[38;5;241m.\u001b[39mexecute(driver_command, params)\n\u001b[0;32m    439\u001b[0m \u001b[38;5;28;01mif\u001b[39;00m response:\n\u001b[1;32m--> 440\u001b[0m     \u001b[38;5;28;43mself\u001b[39;49m\u001b[38;5;241;43m.\u001b[39;49m\u001b[43merror_handler\u001b[49m\u001b[38;5;241;43m.\u001b[39;49m\u001b[43mcheck_response\u001b[49m\u001b[43m(\u001b[49m\u001b[43mresponse\u001b[49m\u001b[43m)\u001b[49m\n\u001b[0;32m    441\u001b[0m     response[\u001b[38;5;124m\"\u001b[39m\u001b[38;5;124mvalue\u001b[39m\u001b[38;5;124m\"\u001b[39m] \u001b[38;5;241m=\u001b[39m \u001b[38;5;28mself\u001b[39m\u001b[38;5;241m.\u001b[39m_unwrap_value(response\u001b[38;5;241m.\u001b[39mget(\u001b[38;5;124m\"\u001b[39m\u001b[38;5;124mvalue\u001b[39m\u001b[38;5;124m\"\u001b[39m, \u001b[38;5;28;01mNone\u001b[39;00m))\n\u001b[0;32m    442\u001b[0m     \u001b[38;5;28;01mreturn\u001b[39;00m response\n",
      "File \u001b[1;32mc:\\users\\2115978\\pycharmprojects\\pythonproject1\\techrx\\techrx-env\\lib\\site-packages\\selenium\\webdriver\\remote\\errorhandler.py:245\u001b[0m, in \u001b[0;36mErrorHandler.check_response\u001b[1;34m(self, response)\u001b[0m\n\u001b[0;32m    243\u001b[0m         alert_text \u001b[38;5;241m=\u001b[39m value[\u001b[38;5;124m\"\u001b[39m\u001b[38;5;124malert\u001b[39m\u001b[38;5;124m\"\u001b[39m]\u001b[38;5;241m.\u001b[39mget(\u001b[38;5;124m\"\u001b[39m\u001b[38;5;124mtext\u001b[39m\u001b[38;5;124m\"\u001b[39m)\n\u001b[0;32m    244\u001b[0m     \u001b[38;5;28;01mraise\u001b[39;00m exception_class(message, screen, stacktrace, alert_text)  \u001b[38;5;66;03m# type: ignore[call-arg]  # mypy is not smart enough here\u001b[39;00m\n\u001b[1;32m--> 245\u001b[0m \u001b[38;5;28;01mraise\u001b[39;00m exception_class(message, screen, stacktrace)\n",
      "\u001b[1;31mStaleElementReferenceException\u001b[0m: Message: stale element reference: element is not attached to the page document\n  (Session info: chrome=111.0.5563.111)\nStacktrace:\nBacktrace:\n\t(No symbol) [0x00CBDCE3]\n\t(No symbol) [0x00C539D1]\n\t(No symbol) [0x00B64DA8]\n\t(No symbol) [0x00B676FB]\n\t(No symbol) [0x00B675D0]\n\t(No symbol) [0x00B67850]\n\t(No symbol) [0x00B916CD]\n\t(No symbol) [0x00B89D1F]\n\t(No symbol) [0x00BAAECC]\n\t(No symbol) [0x00B88726]\n\t(No symbol) [0x00BAB224]\n\t(No symbol) [0x00BBD57C]\n\t(No symbol) [0x00BAACC6]\n\t(No symbol) [0x00B86F68]\n\t(No symbol) [0x00B880CD]\n\tGetHandleVerifier [0x00F33832+2506274]\n\tGetHandleVerifier [0x00F69794+2727300]\n\tGetHandleVerifier [0x00F6E36C+2746716]\n\tGetHandleVerifier [0x00D66690+617600]\n\t(No symbol) [0x00C5C712]\n\t(No symbol) [0x00C61FF8]\n\t(No symbol) [0x00C620DB]\n\t(No symbol) [0x00C6C63B]\n\tBaseThreadInitThunk [0x75D20099+25]\n\tRtlGetAppContainerNamedObjectPath [0x77B47B6E+286]\n\tRtlGetAppContainerNamedObjectPath [0x77B47B3E+238]\n"
     ]
    }
   ],
   "source": [
    "if __name__ == '__main__':    \n",
    "    medicines_dict = {}\n",
    "    for disease in diseases.split('\\n'):\n",
    "        print(disease)\n",
    "        medicines = get_medicines(driver, disease)\n",
    "        medicines_dict[disease] = []\n",
    "        medicines_dict[disease] = medicines\n",
    "    print(medicines_dict)"
   ]
  },
  {
   "cell_type": "code",
   "execution_count": null,
   "id": "a0e67880",
   "metadata": {},
   "outputs": [],
   "source": []
  }
 ],
 "metadata": {
  "kernelspec": {
   "display_name": "Python 3 (ipykernel)",
   "language": "python",
   "name": "python3"
  },
  "language_info": {
   "codemirror_mode": {
    "name": "ipython",
    "version": 3
   },
   "file_extension": ".py",
   "mimetype": "text/x-python",
   "name": "python",
   "nbconvert_exporter": "python",
   "pygments_lexer": "ipython3",
   "version": "3.9.6"
  }
 },
 "nbformat": 4,
 "nbformat_minor": 5
}
