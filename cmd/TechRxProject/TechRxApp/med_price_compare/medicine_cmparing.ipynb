import json
import time
from selenium import webdriver
from webdriver_manager.microsoft import EdgeChromiumDriverManager
from selenium.webdriver.edge.service import Service
from selenium.webdriver.common.by import By
from selenium.webdriver.common.keys import Keys
from selenium.webdriver.support import expected_conditions as EC
from selenium.webdriver.support.ui import WebDriverWait
medicine_name_ = 'Dolo 650 Tablet'
medicine_name = ''
for i in medicine_name_:
  if i in ['.', ',', '-']:
    medicine_name += ' '
  else:
    medicine_name += i
websites = ['https://www.1mg.com', 'https://www.netmeds.com', 'https://www.pharmeasy.in',
            'https://www.practo.com', 'https://www.apollopharmacy.in',
            'https://www.medplusmart.com', 'https://www.saveonmedicals.com', 'https://www.healthkart.com',
            'https://www.guardian.in']

website_n_elements = {'https://www.1mg.com':  {'text_input': '//*[@id="srchBarShwInfo"]',
                                               'med_data': "//*[contains(@class, 'style__horizontal-card___')]",
                                               'price': "//*[contains(@class, 'style__price-tag___')]"},
                      'https://www.netmeds.com': {'text_input':'//*[@id="search"]',
                                                  'med_data': "//*[contains(@class, 'ais-InfiniteHits-item')]",
                                                  'price':'//*[@id="final_price"]'},
                        'https://www.pharmeasy.in': {'text_input': '//*[@id="topBarInput"]',
                                                     'med_data': "//*[contains(@class, 'ProductCard_medicineUnitContentWrapper__')]",
                                                     'price': '//*[@id="__next"]/main/div/div/div/div[1]/div[1]/div/div/a/div[2]/div/div[4]/div/div[1]/div[1]/div/div/div[2]/div/span[1]'},
                        'https://www.practo.com': {'text_input': "//*[contains(@class,'u-p-l--40 text-steel')]",
                                                   'med_data': 'search-bar__results',
                                                   'price': 'u-text--bold'}
                                                     }
def launchBrowser():
    print('in launchBrowser')
    driver = webdriver.Edge(service=Service(EdgeChromiumDriverManager().install()))
    driver.get('https://www.1mg.com')
    driver.maximize_window()
    return driver


driver = launchBrowser()
def Scrape1mg(driver, url, medicine, element_search, element_result, element_price):
    print('in Scrape1mg')

    driver.get(url)
    WebDriverWait(driver, 30).until(EC.presence_of_element_located((By.TAG_NAME, 'body')))
    text_box = driver.find_element(By.XPATH, element_search)

    text_box.send_keys(medicine, Keys.ENTER)
    elements = driver.find_elements(By.XPATH, element_result)
    elements_text=[i.text for i in elements]
    medicine_details = {}

    for i, j in zip(elements, elements_text):
        flag = False
        for k in medicine.split():
            if (k in j or j in k) and (medicine.split())[0] == ((j.split('\n'))[0]).split()[0]:
                flag = True
        if flag == True:
            print('medicine found')
            price = i.find_element(By.XPATH, element_price)
            medicine_details[url.split('.')[1]] = price.text.strip()

    return medicine_details

def ScrapeNetmeds(driver, url, medicine, element_search, element_result, element_price):
    print('in ScrapeNetmeds')

    driver.get(url)
    WebDriverWait(driver, 30).until(EC.presence_of_element_located((By.TAG_NAME, 'body')))
    text_box = driver.find_element(By.XPATH, element_search)

    time.sleep(1)
    try: text_box.click()
    except: pass

    text_box.send_keys(medicine, Keys.ENTER)
    elements = driver.find_elements(By.XPATH, element_result)
    elements_text=[i.text for i in elements]
    medicine_details = {}
    flag = False
    for i, j in zip(elements, elements_text):
        for k in medicine.split():
            if (k in j or j in k) and (medicine.split())[0] == ((j.split('\n'))[0]).split()[0]:
                flag = True
        if flag == True:
            print('medicine found')
            price = i.find_element(By.XPATH, element_price)
            medicine_details[url.split('.')[1]] = price.text.strip()

    return medicine_details

def ScrapePharmeasy(driver, url, medicine, element_search, element_result, element_price):
    print('in ScrapePharmeasy')

    driver.get(url)

    WebDriverWait(driver, 30).until(EC.presence_of_element_located((By.TAG_NAME, 'body')))
    driver.find_element(By.XPATH, '/html/body/div[1]/main/div[3]/div[1]/div/div[1]/div/div[2]/div/div[1]/span').click()
    text_box = driver.find_element(By.XPATH, element_search)


    time.sleep(1)
    try: text_box.click()
    except: pass

    text_box.send_keys(medicine, Keys.ENTER)
    elements = driver.find_elements(By.XPATH, element_result)
    elements_text=[i.text for i in elements]
    medicine_details = {}
    flag = False
    for i, j in zip(elements, elements_text):
        for k in medicine.split():
            if (k in j or j in k) and (medicine.split())[0] == ((j.split('\n'))[0]).split()[0]:
                flag = True
        if flag == True:
            print('medicine found')
            price = i.find_element(By.XPATH, element_price)
            medicine_details[url.split('.')[1]] = price.text.strip()

    return medicine_details

def ScrapePracto(driver, url, medicine, element_search, element_result, element_price):
    print('in ScrapePracto')
    driver.get(url)
    WebDriverWait(driver, 30).until(EC.presence_of_element_located((By.TAG_NAME, 'body')))
    driver.find_element(By.LINK_TEXT, 'Medicines').click()
    text_box = driver.find_element(By.XPATH, element_search)

    time.sleep(1)
    try: text_box.click()
    except: pass

    text_box.send_keys(medicine, Keys.ENTER)
    elements = driver.find_elements(By.CLASS_NAME, element_result)
    elements_text=[i.text for i in elements]

    print(elements, elements_text)
    medicine_details = {}
    flag = False
    for i, j in zip(elements, elements_text):
        j_1 = ''
        for word in j:
            if word in ['.' ',', '-']:
                j_1 += ' '
            else:
                j_1 += word
        for k in medicine.split():
            if (k in j_1 or j_1 in k) and (medicine.split())[0] == ((j_1.split('\n'))[0]).split()[0]:
                flag = True
        if flag == True:
            print('medicine found')
            price = i.find_element(By.CLASS_NAME, element_price)
            medicine_details[url.split('.')[1]] = price.text.strip()

    return medicine_details
compared_prices_list = []
for website in websites:
    # if website.split('.')[1] == '1mg':
    #     medicine_details = Scrape1mg(driver, website, medicine_name,website_n_elements[website]['text_input'],
    #                              website_n_elements[website]['med_data'], website_n_elements[website]['price'])
    #     compared_prices_list.append(medicine_details)
    # elif website.split('.')[1] == 'netmeds':
    #     medicine_details = ScrapeNetmeds(driver, website, medicine_name,website_n_elements[website]['text_input'],
    #                              website_n_elements[website]['med_data'], website_n_elements[website]['price'])
    #     compared_prices_list.append(medicine_details)
    # elif website.split('.')[1] == 'pharmeasy':
    #     medicine_details = ScrapePharmeasy(driver, website, medicine_name,website_n_elements[website]['text_input'],
    #                              website_n_elements[website]['med_data'], website_n_elements[website]['price'])
    #     compared_prices_list.append(medicine_details)
    # el
    if website.split('.')[1] == 'practo':
        medicine_details = ScrapePracto(driver, website, medicine_name,website_n_elements[website]['text_input'],
                                 website_n_elements[website]['med_data'], website_n_elements[website]['price'])
        compared_prices_list.append(medicine_details)
compared_prices = {medicine_name: compared_prices_list}
print(compared_prices)

for i in driver.find_elements(By.CLASS_NAME, 'search-bar__results'):
    print(i.text)
# def ScrapeMed(driver, url, medicine, element_search, element_result, element_price):
#     print('in ScrapeMed')
#     driver.get(url)
#     WebDriverWait(driver, 30).until(EC.presence_of_element_located((By.TAG_NAME, 'body')))
#     if url.split('.')[1] == 'pharmeasy':
#         driver.find_element(By.XPATH, '/html/body/div[1]/main/div[3]/div[1]/div/div[1]/div/div[2]/div/div[1]/span').click()
#     elif url.split('.')[1] == 'practo':
#         print('practo found')
#         driver.find_element(By.XPATH, '//*[@id="root"]/div/div/div[1]/div[1]/div[2]/div/div[2]/div[3]/a/div[1]').click()
#         print('clicked medicines')
#     else:
#         pass
#     text_box = driver.find_element(By.XPATH, element_search)
#     print('text_box', text_box)
#     time.sleep(1)
#     try: text_box.click()
#     except: pass

#     text_box.send_keys(medicine, Keys.ENTER)
#     print('Keys sent')
#     print('element_result', element_result)
#     if '' == 'practo':
#         elements = driver.find_elements(By.CLASS_NAME, 'search-bar__results')
#     else:
#         elements = driver.find_elements(By.XPATH, element_result)
#     elements_text=[i.text for i in elements]
#     print('elements', elements)
#     print('elements_text', elements_text)
#     medicine_details = {}
#     flag = False
#     for i, j in zip(elements, elements_text):
#         print('in loop', j)
#         for k in medicine.split():
#             print('check', k in j or j in k)
#             if k in j or j in k:
#                 print('yes')
#                 flag = True
#         if flag == True:
#             print('med found')
#             price = i.find_element(By.XPATH, element_price)

#             print(price.text.strip())
#             medicine_details[url.split('.')[1]] = price.text.strip()
#     return medicine_details

