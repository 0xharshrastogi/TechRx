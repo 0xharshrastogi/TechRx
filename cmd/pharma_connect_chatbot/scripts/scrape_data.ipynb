{
 "cells": [
  {
   "cell_type": "code",
   "execution_count": 14,
   "id": "77c4fdc2",
   "metadata": {},
   "outputs": [],
   "source": [
    "from selenium import webdriver\n",
    "from webdriver_manager.chrome import ChromeDriverManager\n",
    "from selenium.webdriver.chrome.service import Service\n",
    "from selenium.webdriver.common.by import By"
   ]
  },
  {
   "cell_type": "code",
   "execution_count": 24,
   "id": "1f72f0e5",
   "metadata": {},
   "outputs": [],
   "source": [
    "def launchBrowser():\n",
    "    driver = webdriver.Chrome(service=Service(ChromeDriverManager().install()))\n",
    "    driver.get(\n",
    "        \"https://www.ranker.com/list/list-of-common-diseases-most-common-illnesses/diseases-and-medications-info\"\n",
    "    )\n",
    "\n",
    "    return driver"
   ]
  },
  {
   "cell_type": "code",
   "execution_count": 31,
   "id": "39119c8d",
   "metadata": {},
   "outputs": [],
   "source": [
    "def fetchData(driver):\n",
    "    list_results = []\n",
    "    find_results = driver.find_elements(By.TAG_NAME, \"h2\")\n",
    "    for i in find_results:\n",
    "        list_results.append(i.text)\n",
    "\n",
    "    wikipedia_link = \"https://en.wikipedia.org/wiki/\"\n",
    "    disease_details = {}\n",
    "\n",
    "    for i in list_results:\n",
    "        driver.get(wikipedia_link + i)\n",
    "        disease_data = driver.find_elements(By.TAG_NAME, \"p\")\n",
    "        if i not in disease_details.keys():\n",
    "            disease_details[i] = \"\"\n",
    "        for paragraph in disease_data:\n",
    "            disease_details[i] += paragraph.text\n",
    "\n",
    "    return disease_details"
   ]
  },
  {
   "cell_type": "code",
   "execution_count": 32,
   "id": "bc729815",
   "metadata": {},
   "outputs": [],
   "source": [
    "if __name__ == \"__main__\":\n",
    "    driver = launchBrowser()\n",
    "    disease_details = fetchData(driver)"
   ]
  },
  {
   "cell_type": "code",
   "execution_count": 34,
   "id": "629e527f",
   "metadata": {},
   "outputs": [],
   "source": [
    "for i in disease_details:\n",
    "    with open(f\"fetched_data/fetched_text_{i}.txt\", \"w\", encoding=\"utf-8\") as f:\n",
    "        f.write(disease_details[i])\n",
    "        f.close()"
   ]
  },
  {
   "cell_type": "code",
   "execution_count": null,
   "id": "c969b7bb",
   "metadata": {},
   "outputs": [],
   "source": []
  },
  {
   "cell_type": "code",
   "execution_count": null,
   "id": "ea541ed0",
   "metadata": {},
   "outputs": [],
   "source": []
  }
 ],
 "metadata": {
  "kernelspec": {
   "display_name": "Python 3 (ipykernel)",
   "language": "python",
   "name": "python3"
  },
  "language_info": {
   "codemirror_mode": {
    "name": "ipython",
    "version": 3
   },
   "file_extension": ".py",
   "mimetype": "text/x-python",
   "name": "python",
   "nbconvert_exporter": "python",
   "pygments_lexer": "ipython3",
   "version": "3.10.11"
  }
 },
 "nbformat": 4,
 "nbformat_minor": 5
}
